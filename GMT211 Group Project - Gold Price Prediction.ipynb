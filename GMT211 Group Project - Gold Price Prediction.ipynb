{
 "cells": [
  {
   "cell_type": "markdown",
   "id": "4b6dd4f3",
   "metadata": {},
   "source": [
    "# Gold Price Prediction Project - GMT211\n",
    "\n"
   ]
  },
  {
   "cell_type": "raw",
   "id": "8b280da5",
   "metadata": {},
   "source": [
    "►Kaan Kılıçarslan - 2220674042\n",
    "►Abdullah Kasım İlen -\n",
    "►Remzi Can Dağdeviren -"
   ]
  },
  {
   "cell_type": "markdown",
   "id": "ed867151",
   "metadata": {},
   "source": [
    "# 1. Data Collection"
   ]
  },
  {
   "cell_type": "raw",
   "id": "2d4e3cdb",
   "metadata": {},
   "source": [
    "Data Set Columns:\n",
    "\n",
    "#0   Date - mm/dd/yyyy\n",
    "#1   SPX - stock market index of the 500 largest companies listed on stock exchanges in the US\n",
    "#2   GLD - Gold Price   \n",
    "#3   USO - United States Oil Fund\n",
    "#4   SLV - Silver Price\n",
    "#5   EUR/USD - Currency pair quotation of the Euro against the US"
   ]
  },
  {
   "cell_type": "code",
   "execution_count": 35,
   "id": "fcd74b93",
   "metadata": {},
   "outputs": [],
   "source": [
    "import numpy as np\n",
    "import pandas as pd\n",
    "import seaborn as sns\n",
    "import matplotlib.pyplot as plt"
   ]
  },
  {
   "cell_type": "code",
   "execution_count": 16,
   "id": "201474fd",
   "metadata": {},
   "outputs": [],
   "source": [
    "df = pd.read_csv(r\"C:\\Users\\ASUS\\Desktop\\Data's\\gld_price_data.csv\")"
   ]
  },
  {
   "cell_type": "code",
   "execution_count": 17,
   "id": "6726598c",
   "metadata": {},
   "outputs": [
    {
     "data": {
      "text/html": [
       "<div>\n",
       "<style scoped>\n",
       "    .dataframe tbody tr th:only-of-type {\n",
       "        vertical-align: middle;\n",
       "    }\n",
       "\n",
       "    .dataframe tbody tr th {\n",
       "        vertical-align: top;\n",
       "    }\n",
       "\n",
       "    .dataframe thead th {\n",
       "        text-align: right;\n",
       "    }\n",
       "</style>\n",
       "<table border=\"1\" class=\"dataframe\">\n",
       "  <thead>\n",
       "    <tr style=\"text-align: right;\">\n",
       "      <th></th>\n",
       "      <th>Date</th>\n",
       "      <th>SPX</th>\n",
       "      <th>GLD</th>\n",
       "      <th>USO</th>\n",
       "      <th>SLV</th>\n",
       "      <th>EUR/USD</th>\n",
       "    </tr>\n",
       "  </thead>\n",
       "  <tbody>\n",
       "    <tr>\n",
       "      <th>0</th>\n",
       "      <td>1/2/2008</td>\n",
       "      <td>1447.160034</td>\n",
       "      <td>84.860001</td>\n",
       "      <td>78.470001</td>\n",
       "      <td>15.180</td>\n",
       "      <td>1.471692</td>\n",
       "    </tr>\n",
       "    <tr>\n",
       "      <th>1</th>\n",
       "      <td>1/3/2008</td>\n",
       "      <td>1447.160034</td>\n",
       "      <td>85.570000</td>\n",
       "      <td>78.370003</td>\n",
       "      <td>15.285</td>\n",
       "      <td>1.474491</td>\n",
       "    </tr>\n",
       "    <tr>\n",
       "      <th>2</th>\n",
       "      <td>1/4/2008</td>\n",
       "      <td>1411.630005</td>\n",
       "      <td>85.129997</td>\n",
       "      <td>77.309998</td>\n",
       "      <td>15.167</td>\n",
       "      <td>1.475492</td>\n",
       "    </tr>\n",
       "    <tr>\n",
       "      <th>3</th>\n",
       "      <td>1/7/2008</td>\n",
       "      <td>1416.180054</td>\n",
       "      <td>84.769997</td>\n",
       "      <td>75.500000</td>\n",
       "      <td>15.053</td>\n",
       "      <td>1.468299</td>\n",
       "    </tr>\n",
       "    <tr>\n",
       "      <th>4</th>\n",
       "      <td>1/8/2008</td>\n",
       "      <td>1390.189941</td>\n",
       "      <td>86.779999</td>\n",
       "      <td>76.059998</td>\n",
       "      <td>15.590</td>\n",
       "      <td>1.557099</td>\n",
       "    </tr>\n",
       "  </tbody>\n",
       "</table>\n",
       "</div>"
      ],
      "text/plain": [
       "       Date          SPX        GLD        USO     SLV   EUR/USD\n",
       "0  1/2/2008  1447.160034  84.860001  78.470001  15.180  1.471692\n",
       "1  1/3/2008  1447.160034  85.570000  78.370003  15.285  1.474491\n",
       "2  1/4/2008  1411.630005  85.129997  77.309998  15.167  1.475492\n",
       "3  1/7/2008  1416.180054  84.769997  75.500000  15.053  1.468299\n",
       "4  1/8/2008  1390.189941  86.779999  76.059998  15.590  1.557099"
      ]
     },
     "execution_count": 17,
     "metadata": {},
     "output_type": "execute_result"
    }
   ],
   "source": [
    "df.head()"
   ]
  },
  {
   "cell_type": "code",
   "execution_count": 18,
   "id": "c7e0254d",
   "metadata": {},
   "outputs": [
    {
     "name": "stdout",
     "output_type": "stream",
     "text": [
      "<class 'pandas.core.frame.DataFrame'>\n",
      "RangeIndex: 2290 entries, 0 to 2289\n",
      "Data columns (total 6 columns):\n",
      " #   Column   Non-Null Count  Dtype  \n",
      "---  ------   --------------  -----  \n",
      " 0   Date     2290 non-null   object \n",
      " 1   SPX      2290 non-null   float64\n",
      " 2   GLD      2290 non-null   float64\n",
      " 3   USO      2290 non-null   float64\n",
      " 4   SLV      2290 non-null   float64\n",
      " 5   EUR/USD  2290 non-null   float64\n",
      "dtypes: float64(5), object(1)\n",
      "memory usage: 107.5+ KB\n"
     ]
    }
   ],
   "source": [
    "df.info()"
   ]
  },
  {
   "cell_type": "code",
   "execution_count": 20,
   "id": "1424aa9b",
   "metadata": {},
   "outputs": [
    {
     "data": {
      "text/plain": [
       "(2290, 6)"
      ]
     },
     "execution_count": 20,
     "metadata": {},
     "output_type": "execute_result"
    }
   ],
   "source": [
    "df.shape"
   ]
  },
  {
   "cell_type": "code",
   "execution_count": 21,
   "id": "56189754",
   "metadata": {},
   "outputs": [
    {
     "data": {
      "text/html": [
       "<div>\n",
       "<style scoped>\n",
       "    .dataframe tbody tr th:only-of-type {\n",
       "        vertical-align: middle;\n",
       "    }\n",
       "\n",
       "    .dataframe tbody tr th {\n",
       "        vertical-align: top;\n",
       "    }\n",
       "\n",
       "    .dataframe thead th {\n",
       "        text-align: right;\n",
       "    }\n",
       "</style>\n",
       "<table border=\"1\" class=\"dataframe\">\n",
       "  <thead>\n",
       "    <tr style=\"text-align: right;\">\n",
       "      <th></th>\n",
       "      <th>SPX</th>\n",
       "      <th>GLD</th>\n",
       "      <th>USO</th>\n",
       "      <th>SLV</th>\n",
       "      <th>EUR/USD</th>\n",
       "    </tr>\n",
       "  </thead>\n",
       "  <tbody>\n",
       "    <tr>\n",
       "      <th>count</th>\n",
       "      <td>2290.000000</td>\n",
       "      <td>2290.000000</td>\n",
       "      <td>2290.000000</td>\n",
       "      <td>2290.000000</td>\n",
       "      <td>2290.000000</td>\n",
       "    </tr>\n",
       "    <tr>\n",
       "      <th>mean</th>\n",
       "      <td>1654.315776</td>\n",
       "      <td>122.732875</td>\n",
       "      <td>31.842221</td>\n",
       "      <td>20.084997</td>\n",
       "      <td>1.283653</td>\n",
       "    </tr>\n",
       "    <tr>\n",
       "      <th>std</th>\n",
       "      <td>519.111540</td>\n",
       "      <td>23.283346</td>\n",
       "      <td>19.523517</td>\n",
       "      <td>7.092566</td>\n",
       "      <td>0.131547</td>\n",
       "    </tr>\n",
       "    <tr>\n",
       "      <th>min</th>\n",
       "      <td>676.530029</td>\n",
       "      <td>70.000000</td>\n",
       "      <td>7.960000</td>\n",
       "      <td>8.850000</td>\n",
       "      <td>1.039047</td>\n",
       "    </tr>\n",
       "    <tr>\n",
       "      <th>25%</th>\n",
       "      <td>1239.874969</td>\n",
       "      <td>109.725000</td>\n",
       "      <td>14.380000</td>\n",
       "      <td>15.570000</td>\n",
       "      <td>1.171313</td>\n",
       "    </tr>\n",
       "    <tr>\n",
       "      <th>50%</th>\n",
       "      <td>1551.434998</td>\n",
       "      <td>120.580002</td>\n",
       "      <td>33.869999</td>\n",
       "      <td>17.268500</td>\n",
       "      <td>1.303297</td>\n",
       "    </tr>\n",
       "    <tr>\n",
       "      <th>75%</th>\n",
       "      <td>2073.010070</td>\n",
       "      <td>132.840004</td>\n",
       "      <td>37.827501</td>\n",
       "      <td>22.882500</td>\n",
       "      <td>1.369971</td>\n",
       "    </tr>\n",
       "    <tr>\n",
       "      <th>max</th>\n",
       "      <td>2872.870117</td>\n",
       "      <td>184.589996</td>\n",
       "      <td>117.480003</td>\n",
       "      <td>47.259998</td>\n",
       "      <td>1.598798</td>\n",
       "    </tr>\n",
       "  </tbody>\n",
       "</table>\n",
       "</div>"
      ],
      "text/plain": [
       "               SPX          GLD          USO          SLV      EUR/USD\n",
       "count  2290.000000  2290.000000  2290.000000  2290.000000  2290.000000\n",
       "mean   1654.315776   122.732875    31.842221    20.084997     1.283653\n",
       "std     519.111540    23.283346    19.523517     7.092566     0.131547\n",
       "min     676.530029    70.000000     7.960000     8.850000     1.039047\n",
       "25%    1239.874969   109.725000    14.380000    15.570000     1.171313\n",
       "50%    1551.434998   120.580002    33.869999    17.268500     1.303297\n",
       "75%    2073.010070   132.840004    37.827501    22.882500     1.369971\n",
       "max    2872.870117   184.589996   117.480003    47.259998     1.598798"
      ]
     },
     "execution_count": 21,
     "metadata": {},
     "output_type": "execute_result"
    }
   ],
   "source": [
    "df.describe()"
   ]
  },
  {
   "cell_type": "code",
   "execution_count": 22,
   "id": "e93ce305",
   "metadata": {},
   "outputs": [
    {
     "name": "stdout",
     "output_type": "stream",
     "text": [
      "Date\n",
      "['1/2/2008' '1/3/2008' '1/4/2008' ... '5/10/2018' '5/14/2018' '5/16/2018']\n"
     ]
    }
   ],
   "source": [
    "for col in df.select_dtypes(include='object').columns:\n",
    "    print(col)\n",
    "    print(df[col].unique())\n",
    "    \n",
    "#this is gold price dataset\n",
    "#the dataset gives you information about a gold prices based on serveral other stock prices.\n"
   ]
  },
  {
   "cell_type": "markdown",
   "id": "20097970",
   "metadata": {},
   "source": [
    "# 2. Finding Unwanted Columns"
   ]
  },
  {
   "cell_type": "markdown",
   "id": "7b84ecee",
   "metadata": {},
   "source": [
    "There is no unwanted column present in given dataset to remove"
   ]
  },
  {
   "cell_type": "markdown",
   "id": "56b4fdd8",
   "metadata": {},
   "source": [
    "# 3. Find Missing Values"
   ]
  },
  {
   "cell_type": "code",
   "execution_count": 24,
   "id": "99ad0435",
   "metadata": {},
   "outputs": [
    {
     "name": "stdout",
     "output_type": "stream",
     "text": [
      "No missing value found\n"
     ]
    }
   ],
   "source": [
    "features_na = [features for features in df.columns if df[features].isnull().sum() > 0]\n",
    "for feature in features_na:\n",
    "    print(feature, np.round(df[feature].isnull().mean(), 4), '% missing values')\n",
    "else:\n",
    "    print(\"No missing value found\")"
   ]
  },
  {
   "cell_type": "markdown",
   "id": "0fc9c16c",
   "metadata": {},
   "source": [
    "# 3. Find Features with One Value"
   ]
  },
  {
   "cell_type": "code",
   "execution_count": 25,
   "id": "d6edad9b",
   "metadata": {},
   "outputs": [
    {
     "name": "stdout",
     "output_type": "stream",
     "text": [
      "Date 2290\n",
      "SPX 2277\n",
      "GLD 1930\n",
      "USO 1514\n",
      "SLV 1331\n",
      "EUR/USD 2066\n"
     ]
    }
   ],
   "source": [
    "for column in df.columns:\n",
    "    print(column,df[column].nunique())"
   ]
  },
  {
   "cell_type": "markdown",
   "id": "3db01cc9",
   "metadata": {},
   "source": [
    "# 4. Explore the Categorial Features"
   ]
  },
  {
   "cell_type": "code",
   "execution_count": 26,
   "id": "81eca967",
   "metadata": {},
   "outputs": [
    {
     "name": "stdout",
     "output_type": "stream",
     "text": [
      "Number of numerical variables:  0\n"
     ]
    },
    {
     "name": "stderr",
     "output_type": "stream",
     "text": [
      "<>:2: SyntaxWarning: \"is\" with a literal. Did you mean \"==\"?\n",
      "<>:2: SyntaxWarning: \"is\" with a literal. Did you mean \"==\"?\n",
      "C:\\Users\\ASUS\\AppData\\Local\\Temp\\ipykernel_11224\\1068350716.py:2: SyntaxWarning: \"is\" with a literal. Did you mean \"==\"?\n",
      "  numerical_features = [feature for feature in df.columns if ((df[feature].dtypes is '0') & (feature not in ['GLD']))]\n"
     ]
    },
    {
     "data": {
      "text/html": [
       "<div>\n",
       "<style scoped>\n",
       "    .dataframe tbody tr th:only-of-type {\n",
       "        vertical-align: middle;\n",
       "    }\n",
       "\n",
       "    .dataframe tbody tr th {\n",
       "        vertical-align: top;\n",
       "    }\n",
       "\n",
       "    .dataframe thead th {\n",
       "        text-align: right;\n",
       "    }\n",
       "</style>\n",
       "<table border=\"1\" class=\"dataframe\">\n",
       "  <thead>\n",
       "    <tr style=\"text-align: right;\">\n",
       "      <th></th>\n",
       "    </tr>\n",
       "  </thead>\n",
       "  <tbody>\n",
       "    <tr>\n",
       "      <th>0</th>\n",
       "    </tr>\n",
       "    <tr>\n",
       "      <th>1</th>\n",
       "    </tr>\n",
       "    <tr>\n",
       "      <th>2</th>\n",
       "    </tr>\n",
       "    <tr>\n",
       "      <th>3</th>\n",
       "    </tr>\n",
       "    <tr>\n",
       "      <th>4</th>\n",
       "    </tr>\n",
       "  </tbody>\n",
       "</table>\n",
       "</div>"
      ],
      "text/plain": [
       "Empty DataFrame\n",
       "Columns: []\n",
       "Index: [0, 1, 2, 3, 4]"
      ]
     },
     "execution_count": 26,
     "metadata": {},
     "output_type": "execute_result"
    }
   ],
   "source": [
    "# list of numerical variables\n",
    "numerical_features = [feature for feature in df.columns if ((df[feature].dtypes is '0') & (feature not in ['GLD']))]\n",
    "print('Number of numerical variables: ', len(numerical_features))\n",
    "\n",
    "# visualise the numerical variables\n",
    "df[numerical_features].head()"
   ]
  },
  {
   "cell_type": "markdown",
   "id": "1dfb33f8",
   "metadata": {},
   "source": [
    "# 5. Find Discrete Numerical Features"
   ]
  },
  {
   "cell_type": "code",
   "execution_count": 27,
   "id": "8ac3f5e2",
   "metadata": {},
   "outputs": [
    {
     "name": "stdout",
     "output_type": "stream",
     "text": [
      "Discrete Variables Count: 0\n"
     ]
    }
   ],
   "source": [
    "discrete_feature=[feature for feature in numerical_features if len(df[feature].unique())<25]\n",
    "print(\"Discrete Variables Count: {}\".format(len(discrete_feature)))"
   ]
  },
  {
   "cell_type": "markdown",
   "id": "f4655861",
   "metadata": {},
   "source": [
    "# 6. Find Countinous Numerical Features"
   ]
  },
  {
   "cell_type": "code",
   "execution_count": 29,
   "id": "1d2d7c89",
   "metadata": {},
   "outputs": [
    {
     "name": "stdout",
     "output_type": "stream",
     "text": [
      "Continuous feature Count 0\n"
     ]
    }
   ],
   "source": [
    "continuous_features=[feature for feature in numerical_features if feature not in descrete_feature+['GOD']]\n",
    "print(\"Continuous feature Count {}\".format(len(continuous_features)))\n"
   ]
  },
  {
   "cell_type": "markdown",
   "id": "92f1f095",
   "metadata": {},
   "source": [
    "# 7. Distribution of Continous Numerical Features"
   ]
  },
  {
   "cell_type": "code",
   "execution_count": 36,
   "id": "ca846a58",
   "metadata": {},
   "outputs": [
    {
     "data": {
      "text/plain": [
       "<Figure size 2000x6000 with 0 Axes>"
      ]
     },
     "metadata": {},
     "output_type": "display_data"
    }
   ],
   "source": [
    "# plot a univariate distribution of continues observations\n",
    "\n",
    "plt.figure(figsize=(20,60), facecolor='white')\n",
    "plotnumber = 1\n",
    "for continuous_feature in continuous_features:\n",
    "    ax = plt.subplot(12,3,plotnumber)\n",
    "    sns.distplot(df[continuous_feature])\n",
    "    plt.xlabel(continuous_feature)\n",
    "    plotnumber += 1\n",
    "plt.show()"
   ]
  },
  {
   "cell_type": "markdown",
   "id": "0a9ee6f0",
   "metadata": {},
   "source": [
    "# 8. Relation between Continous numerical Features and Labels"
   ]
  },
  {
   "cell_type": "code",
   "execution_count": 33,
   "id": "86ed5ba2",
   "metadata": {},
   "outputs": [
    {
     "data": {
      "text/plain": [
       "<Figure size 2000x6000 with 0 Axes>"
      ]
     },
     "metadata": {},
     "output_type": "display_data"
    }
   ],
   "source": [
    "plt.figure(figsize=(20,60), facecolor = 'white')\n",
    "plotnumber =1\n",
    "for feature in continuous_features:\n",
    "    data=df.copy()\n",
    "    ax=plt.subplot(12,3,plotnumber)\n",
    "    plt.scatter(data[feature],data['GLD'])\n",
    "    plt.xlabel(feature)\n",
    "    plt.ylabel('GLD')\n",
    "    plt.title(feature)\n",
    "    plotnumber+=1\n",
    "plt.show()"
   ]
  },
  {
   "cell_type": "markdown",
   "id": "bd48cd56",
   "metadata": {},
   "source": [
    "# 9. Find Outliners in numerical features"
   ]
  },
  {
   "cell_type": "code",
   "execution_count": 37,
   "id": "eece59bf",
   "metadata": {},
   "outputs": [
    {
     "data": {
      "text/plain": [
       "<Figure size 2000x6000 with 0 Axes>"
      ]
     },
     "metadata": {},
     "output_type": "display_data"
    }
   ],
   "source": [
    "plt.figure(figsize=(20,60), facecolor = 'white')\n",
    "plotnumber =1\n",
    "for numerical_feature in numerical_features:\n",
    "    ax=plt.subplot(12,3,plotnumber)\n",
    "    sns.boxplot(df[numerical_feature])\n",
    "    plt.xlabel(numerical_feature)\n",
    "    plotnumber+=1\n",
    "plt.show()"
   ]
  },
  {
   "cell_type": "markdown",
   "id": "66a746f5",
   "metadata": {},
   "source": [
    "# 10. Explore the Correlation between numerical features"
   ]
  },
  {
   "cell_type": "code",
   "execution_count": null,
   "id": "da0b47eb",
   "metadata": {},
   "outputs": [],
   "source": []
  }
 ],
 "metadata": {
  "kernelspec": {
   "display_name": "Python 3 (ipykernel)",
   "language": "python",
   "name": "python3"
  },
  "language_info": {
   "codemirror_mode": {
    "name": "ipython",
    "version": 3
   },
   "file_extension": ".py",
   "mimetype": "text/x-python",
   "name": "python",
   "nbconvert_exporter": "python",
   "pygments_lexer": "ipython3",
   "version": "3.9.13"
  }
 },
 "nbformat": 4,
 "nbformat_minor": 5
}
